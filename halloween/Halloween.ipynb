{
 "cells": [
  {
   "cell_type": "markdown",
   "id": "185f9931-b384-4fdc-a5b2-eea785428bb8",
   "metadata": {},
   "source": [
    "Copyright **`(c)`** 2023 Giovanni Squillero `<giovanni.squillero@polito.it>`  \n",
    "[`https://github.com/squillero/computational-intelligence`](https://github.com/squillero/computational-intelligence)  \n",
    "Free for personal or classroom use; see [`LICENSE.md`](https://github.com/squillero/computational-intelligence/blob/master/LICENSE.md) for details.  "
   ]
  },
  {
   "cell_type": "code",
   "execution_count": 8,
   "id": "3ffe7245-e849-41d0-9698-5f0e0b83fee9",
   "metadata": {},
   "outputs": [],
   "source": [
    "from itertools import product\n",
    "from random import random, randint, shuffle, seed\n",
    "import numpy as np\n",
    "from scipy import sparse\n",
    "from functools import reduce"
   ]
  },
  {
   "cell_type": "code",
   "execution_count": 9,
   "id": "6f03bd67-78a0-4d72-95b7-77a918727b91",
   "metadata": {},
   "outputs": [],
   "source": [
    "def make_set_covering_problem(num_points, num_sets, density):\n",
    "    \"\"\"Returns a sparse array where rows are sets and columns are the covered items\"\"\"\n",
    "    seed(num_points*2654435761+num_sets+density)\n",
    "    sets = sparse.lil_array((num_sets, num_points), dtype=bool)\n",
    "    for s, p in product(range(num_sets), range(num_points)):\n",
    "        if random() < density:\n",
    "            sets[s, p] = True\n",
    "    for p in range(num_points):\n",
    "        sets[randint(0, num_sets-1), p] = True\n",
    "    return sets"
   ]
  },
  {
   "cell_type": "code",
   "execution_count": 10,
   "id": "8beeb0ce",
   "metadata": {},
   "outputs": [],
   "source": [
    "def fitness(state):\n",
    "    cost = state.sum(axis=0)\n",
    "    global fitness_counter\n",
    "    fitness_counter = fitness_counter + 1\n",
    "    valid = np.all(\n",
    "        reduce(\n",
    "            np.logical_or,\n",
    "            [x[[i], :].toarray()[0] for i, t in enumerate(state) if t],\n",
    "            np.array([False for _ in range(problem_dim)]),\n",
    "        )\n",
    "    )\n",
    "    return valid, cost"
   ]
  },
  {
   "cell_type": "code",
   "execution_count": null,
   "id": "e0b368ca",
   "metadata": {},
   "outputs": [],
   "source": [
    "# function to generate a random initial solution (random selection of sets)\n",
    "def initialize_solution(num_sets):\n",
    "    selected_sets = [str(i) for i in range(num_sets) if random() < 0.5]\n",
    "    return ','.join(selected_sets)"
   ]
  },
  {
   "cell_type": "code",
   "execution_count": null,
   "id": "83dc943e",
   "metadata": {},
   "outputs": [],
   "source": [
    "# evolutionary algorithm single state --> Genetic Algorithm\n",
    "def genetic_algorithm(problem, max_generations, population_size):\n",
    "    best_solution = None\n",
    "    best_fitness = float('inf')\n",
    "    population = []\n",
    "\n",
    "    for _ in range(population_size):\n",
    "        population.append(initialize_solution(num_sets))\n",
    "\n",
    "    for generation in range(max_generations):\n",
    "        new_population = []\n",
    "\n",
    "        for _ in range(population_size):\n",
    "            # Select two parents randomly from the population\n",
    "            parent1, parent2 = np.random.choice(population, size=2, replace=False)\n",
    "\n",
    "            # Perform crossover and mutation to create a new child solution\n",
    "            crossover_point = randint(1, num_sets - 1)\n",
    "            child = parent1[:crossover_point] + parent2[crossover_point:]\n",
    "\n",
    "            if random() < 0.1:\n",
    "                mutation_point = randint(0, num_sets - 1)\n",
    "                child = child[:mutation_point] + str(1 - int(child[mutation_point])) + child[mutation_point + 1:]\n",
    "\n",
    "            # Evaluate the fitness of the child\n",
    "            valid, cost = fitness(child, problem)\n",
    "\n",
    "            # Add the child to the new population\n",
    "            new_population.append(child)\n",
    "\n",
    "            # Update the best solution if the child is better\n",
    "            if valid and cost < best_fitness:\n",
    "                best_solution = child\n",
    "                best_fitness = cost\n",
    "\n",
    "        # Replace the old population with the new population\n",
    "        population = new_population\n",
    "\n",
    "        # Output the best solution at the end of each generation\n",
    "        print(f\"Generation {generation}: Best solution = {best_solution}, Cost = {best_fitness}\")\n",
    "\n",
    "    return best_solution, best_fitness"
   ]
  },
  {
   "cell_type": "markdown",
   "id": "82b0be37-21d9-492d-9a1d-cf0cdf0ddd76",
   "metadata": {},
   "source": [
    "# Halloween Challenge\n",
    "\n",
    "Find the best solution with the fewest calls to the fitness functions for:\n",
    "\n",
    "* `num_points = [100, 1_000, 5_000]`\n",
    "* `num_sets = num_points`\n",
    "* `density = [.3, .7]` "
   ]
  },
  {
   "cell_type": "code",
   "execution_count": 11,
   "id": "221ffdba-5d3d-48cc-bd08-45ccc9366ea6",
   "metadata": {},
   "outputs": [
    {
     "name": "stdout",
     "output_type": "stream",
     "text": [
      "Element at row=42 and column=42: False\n"
     ]
    }
   ],
   "source": [
    "num_points = 100\n",
    "num_sets = num_points\n",
    "density = 0.3\n",
    "x = make_set_covering_problem(num_points, num_sets, density)\n",
    "print(\"Element at row=42 and column=42:\", x[42, 42])"
   ]
  },
  {
   "cell_type": "code",
   "execution_count": null,
   "id": "6492337b-8429-472d-9c3e-c79c5b46da54",
   "metadata": {},
   "outputs": [],
   "source": []
  }
 ],
 "metadata": {
  "kernelspec": {
   "display_name": "Python 3 (ipykernel)",
   "language": "python",
   "name": "python3"
  },
  "language_info": {
   "codemirror_mode": {
    "name": "ipython",
    "version": 3
   },
   "file_extension": ".py",
   "mimetype": "text/x-python",
   "name": "python",
   "nbconvert_exporter": "python",
   "pygments_lexer": "ipython3",
   "version": "3.12.0"
  }
 },
 "nbformat": 4,
 "nbformat_minor": 5
}
