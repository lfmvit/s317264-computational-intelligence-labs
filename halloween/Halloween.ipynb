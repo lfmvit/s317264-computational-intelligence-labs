{
 "cells": [
  {
   "cell_type": "markdown",
   "id": "185f9931-b384-4fdc-a5b2-eea785428bb8",
   "metadata": {},
   "source": [
    "Copyright **`(c)`** 2023 Giovanni Squillero `<giovanni.squillero@polito.it>`  \n",
    "[`https://github.com/squillero/computational-intelligence`](https://github.com/squillero/computational-intelligence)  \n",
    "Free for personal or classroom use; see [`LICENSE.md`](https://github.com/squillero/computational-intelligence/blob/master/LICENSE.md) for details.  "
   ]
  },
  {
   "cell_type": "code",
   "execution_count": 328,
   "id": "3ffe7245-e849-41d0-9698-5f0e0b83fee9",
   "metadata": {},
   "outputs": [],
   "source": [
    "from itertools import product\n",
    "from random import random, randint, shuffle, seed\n",
    "import numpy as np\n",
    "from scipy import sparse\n",
    "from functools import reduce"
   ]
  },
  {
   "cell_type": "code",
   "execution_count": 329,
   "metadata": {},
   "outputs": [],
   "source": [
    "# Define the problem dimensions\n",
    "num_points = 100\n",
    "num_sets = num_points\n",
    "density = 0.3\n",
    "problem_dim = num_points\n",
    "fitness_counter = 0\n",
    "\n"
   ]
  },
  {
   "cell_type": "code",
   "execution_count": 330,
   "id": "6f03bd67-78a0-4d72-95b7-77a918727b91",
   "metadata": {},
   "outputs": [],
   "source": [
    "def make_set_covering_problem(num_points, num_sets, density):\n",
    "    seed(num_points * 2654435761 + num_sets + density)\n",
    "    sets = sparse.lil_matrix((num_sets, num_points), dtype=bool)\n",
    "    for s, p in product(range(num_sets), range(num_points)):\n",
    "        if random() < density:\n",
    "            sets[s, p] = True\n",
    "    for p in range(num_points):\n",
    "        sets[randint(0, num_sets - 1), p] = True\n",
    "    return sets"
   ]
  },
  {
   "cell_type": "code",
   "execution_count": 331,
   "id": "8beeb0ce",
   "metadata": {},
   "outputs": [],
   "source": [
    "# Function to evaluate the fitness of a solution\n",
    "def fitness2(state, problem):\n",
    "    cost = state.count('1')\n",
    "    global fitness_counter\n",
    "    fitness_counter = fitness_counter + 1\n",
    "\n",
    "    covered_items = reduce(\n",
    "        np.logical_or,\n",
    "        [problem[i, :].toarray()[0] for i, t in enumerate(state) if t == '1'],\n",
    "        np.array([False for _ in range(problem_dim)]),\n",
    "    )\n",
    "\n",
    "    valid = np.all(covered_items)\n",
    "\n",
    "    return valid, cost"
   ]
  },
  {
   "cell_type": "code",
   "execution_count": 332,
   "id": "e0b368ca",
   "metadata": {},
   "outputs": [],
   "source": [
    "def initialize_solution(num_sets):\n",
    "\n",
    "    cap = 8 # limit the initial cost of generation 0\n",
    "\n",
    "    num_selected_sets = min(cap, num_sets)  # Cap the maximum selected sets to 30\n",
    "    selected_sets = [1] * num_selected_sets + [0] * (num_sets - num_selected_sets)\n",
    "    shuffle(selected_sets)  # Shuffle the selected sets to randomize them\n",
    "    selected_sets = ''.join(map(str, selected_sets))\n",
    "    return selected_sets"
   ]
  },
  {
   "cell_type": "code",
   "execution_count": 333,
   "id": "83dc943e",
   "metadata": {},
   "outputs": [],
   "source": [
    "# Main GA function\n",
    "def genetic_algorithm(problem, max_generations, population_size):\n",
    "    best_solution = None\n",
    "    best_fitness = float('inf')\n",
    "    population = []\n",
    "\n",
    "    for _ in range(population_size):\n",
    "        population.append(initialize_solution(num_sets))\n",
    "\n",
    "    for generation in range(max_generations):\n",
    "        new_population = []\n",
    "\n",
    "        for _ in range(population_size):\n",
    "            parent1_index, parent2_index = np.random.choice(range(population_size), size=2, replace=False)\n",
    "            parent1 = population[parent1_index]\n",
    "            parent2 = population[parent2_index]\n",
    "\n",
    "            crossover_point = randint(1, num_sets - 1)\n",
    "            child = parent1[:crossover_point] + parent2[crossover_point:]\n",
    "\n",
    "            # Introduce mutation\n",
    "            mutation_point = randint(0, num_sets - 1)\n",
    "            mutation = random() < 0.1\n",
    "            child = child[:mutation_point] + ('1' if mutation else '0') + child[mutation_point + 1:]\n",
    "\n",
    "            valid, cost = fitness2(child, problem)\n",
    "\n",
    "            new_population.append(child)\n",
    "\n",
    "            if valid and cost < best_fitness:\n",
    "                best_solution = child\n",
    "                best_fitness = cost\n",
    "\n",
    "        population = new_population\n",
    "\n",
    "        print(f\"Generation {generation}: Best solution = {best_solution}, Cost = {best_fitness}\")\n",
    "\n",
    "    return best_solution, best_fitness"
   ]
  },
  {
   "cell_type": "code",
   "execution_count": 334,
   "metadata": {},
   "outputs": [
    {
     "data": {
      "text/plain": [
       "' # Generate the initial solution\\ninitial_solution = initialize_solution(num_sets)\\n\\n# Print the initial solution\\nprint(\"Initial solution:\", initial_solution)\\n\\ninitial_solution_coverage = [x[i, :].toarray()[0] for i, t in enumerate(initial_solution) if t == \\'1\\']\\n\\n# Calculate the overall coverage\\noverall_coverage = sum(reduce(np.logical_or, initial_solution_coverage, np.array([False for _ in range(problem_dim)])))\\n\\n# Print the overall coverage\\nprint(\"Overall coverage by the initial solution:\", overall_coverage)\\n\\ninitial_solution_valid, initial_solution_cost = fitness2(initial_solution, x)\\nprint(\"Initial solution cost:\", initial_solution_cost)\\nprint(\"The solution is valid:\", initial_solution_valid)\\n '"
      ]
     },
     "execution_count": 334,
     "metadata": {},
     "output_type": "execute_result"
    }
   ],
   "source": [
    "\"\"\" # Generate the initial solution\n",
    "initial_solution = initialize_solution(num_sets)\n",
    "\n",
    "# Print the initial solution\n",
    "print(\"Initial solution:\", initial_solution)\n",
    "\n",
    "initial_solution_coverage = [x[i, :].toarray()[0] for i, t in enumerate(initial_solution) if t == '1']\n",
    "\n",
    "# Calculate the overall coverage\n",
    "overall_coverage = sum(reduce(np.logical_or, initial_solution_coverage, np.array([False for _ in range(problem_dim)])))\n",
    "\n",
    "# Print the overall coverage\n",
    "print(\"Overall coverage by the initial solution:\", overall_coverage)\n",
    "\n",
    "initial_solution_valid, initial_solution_cost = fitness2(initial_solution, x)\n",
    "print(\"Initial solution cost:\", initial_solution_cost)\n",
    "print(\"The solution is valid:\", initial_solution_valid)\n",
    " \"\"\""
   ]
  },
  {
   "cell_type": "markdown",
   "id": "82b0be37-21d9-492d-9a1d-cf0cdf0ddd76",
   "metadata": {},
   "source": [
    "# Halloween Challenge\n",
    "\n",
    "Find the best solution with the fewest calls to the fitness functions for:\n",
    "\n",
    "* `num_points = [100, 1_000, 5_000]`\n",
    "* `num_sets = num_points`\n",
    "* `density = [.3, .7]` "
   ]
  },
  {
   "cell_type": "code",
   "execution_count": 335,
   "id": "221ffdba-5d3d-48cc-bd08-45ccc9366ea6",
   "metadata": {},
   "outputs": [
    {
     "name": "stdout",
     "output_type": "stream",
     "text": [
      "Generation 0: Best solution = 0000000000000000010001000000100000000000000010000000001000001000000000000000010000000001000000000001, Cost = 9\n",
      "Generation 1: Best solution = 0000000000000000010001000000100000000000000010000000001000001000000000000000010000000001000000000001, Cost = 9\n",
      "Generation 2: Best solution = 0000000000000000010001000000100000000000000010000000001000001000000000000000010000000001000000000001, Cost = 9\n",
      "Generation 3: Best solution = 0000000000000000010001000000100000000000000010000000001000001000000000000000010000000001000000000001, Cost = 9\n",
      "Generation 4: Best solution = 0000000000000000010001000000100000000000000010000000001000001000000000000000010000000001000000000001, Cost = 9\n"
     ]
    },
    {
     "name": "stdout",
     "output_type": "stream",
     "text": [
      "Generation 5: Best solution = 0000000000000000010001000000100000000000000010000000001000001000000000000000010000000001000000000001, Cost = 9\n",
      "Generation 6: Best solution = 0000000000000000010001000000100000000000000010000000001000001000000000000000010000000001000000000001, Cost = 9\n",
      "Generation 7: Best solution = 0000000000000000010001000000100000000000000010000000001000001000000000000000010000000001000000000001, Cost = 9\n",
      "Generation 8: Best solution = 0000000000000000010001000000100000000000000010000000001000001000000000000000010000000001000000000001, Cost = 9\n",
      "Generation 9: Best solution = 0000000000000000010001000000100000000000000010000000001000001000000000000000010000000001000000000001, Cost = 9\n",
      "Generation 10: Best solution = 0000000000000000010001000000100000000000000010000000001000001000000000000000010000000001000000000001, Cost = 9\n",
      "Generation 11: Best solution = 0000000000000000010001000000100000000000000010000000001000001000000000000000010000000001000000000001, Cost = 9\n",
      "Generation 12: Best solution = 0000000000000000010001000000100000000000000010000000001000001000000000000000010000000001000000000001, Cost = 9\n",
      "Generation 13: Best solution = 0000000000000000010001000000100000000000000010000000001000001000000000000000010000000001000000000001, Cost = 9\n",
      "Generation 14: Best solution = 0000000000000000010001000000100000000000000010000000001000001000000000000000010000000001000000000001, Cost = 9\n",
      "Generation 15: Best solution = 0000000000000000010001000000100000000000000010000000001000001000000000000000010000000001000000000001, Cost = 9\n",
      "Generation 16: Best solution = 0000000000000000010001000000100000000000000010000000001000001000000000000000010000000001000000000001, Cost = 9\n",
      "Generation 17: Best solution = 0000000000000000010001000000100000000000000010000000001000001000000000000000010000000001000000000001, Cost = 9\n",
      "Generation 18: Best solution = 0000000000000000010001000000100000000000000010000000001000001000000000000000010000000001000000000001, Cost = 9\n",
      "Generation 19: Best solution = 0000000000000000010001000000100000000000000010000000001000001000000000000000010000000001000000000001, Cost = 9\n",
      "Number of points 100\n",
      "Density 0.3\n",
      "Max Generations 20\n",
      "Population size 100\n",
      "Best fitness (cost): 9\n",
      "Number of fitness evaluations: 2000\n",
      "Overall coverage by the best solution: 100.0 %\n",
      "Best solution cost: 9\n"
     ]
    }
   ],
   "source": [
    "# Generate the set covering problem\n",
    "x = make_set_covering_problem(num_points, num_sets, density)\n",
    "\n",
    "# Call the genetic algorithm\n",
    "max_generations = 20\n",
    "population_size = 100\n",
    "best_solution, best_fitness = genetic_algorithm(x, max_generations, population_size)\n",
    "\n",
    "print(\"Number of points\", num_points)\n",
    "print(\"Density\", density)\n",
    "print(\"Max Generations\", max_generations)\n",
    "print(\"Population size\", population_size)\n",
    "\n",
    "# Print the best solution and its fitness\n",
    "# print(\"Best solution:\", best_solution)\n",
    "print(\"Best fitness (cost):\", best_fitness)\n",
    "print(\"Number of fitness evaluations:\", fitness_counter)\n",
    "\n",
    "# Calculate the overall coverage achieved by the best solution\n",
    "best_solution_coverage = [x[i, :].toarray()[0] for i, t in enumerate(best_solution) if t == '1']\n",
    "best_solution_overall_coverage = sum(reduce(np.logical_or, best_solution_coverage, np.array([False for _ in range(problem_dim)])))\n",
    "print(\"Overall coverage by the best solution:\", (best_solution_overall_coverage/num_points)*100, \"%\")\n",
    "print(\"Best solution cost:\", best_fitness)"
   ]
  },
  {
   "cell_type": "code",
   "execution_count": null,
   "id": "6492337b-8429-472d-9c3e-c79c5b46da54",
   "metadata": {},
   "outputs": [],
   "source": []
  }
 ],
 "metadata": {
  "kernelspec": {
   "display_name": "Python 3 (ipykernel)",
   "language": "python",
   "name": "python3"
  },
  "language_info": {
   "codemirror_mode": {
    "name": "ipython",
    "version": 3
   },
   "file_extension": ".py",
   "mimetype": "text/x-python",
   "name": "python",
   "nbconvert_exporter": "python",
   "pygments_lexer": "ipython3",
   "version": "3.12.0"
  }
 },
 "nbformat": 4,
 "nbformat_minor": 5
}
