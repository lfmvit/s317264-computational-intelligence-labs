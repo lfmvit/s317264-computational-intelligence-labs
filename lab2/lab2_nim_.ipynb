{
  "cells": [
    {
      "cell_type": "markdown",
      "metadata": {
        "id": "jwdvejve21pe",
        "pycharm": {
          "name": "#%% md\n"
        }
      },
      "source": [
        "Copyright **`(c)`** 2022 Giovanni Squillero `<squillero@polito.it>`  \n",
        "[`https://github.com/squillero/computational-intelligence`](https://github.com/squillero/computational-intelligence)  \n",
        "Free for personal or classroom use; see [`LICENSE.md`](https://github.com/squillero/computational-intelligence/blob/master/LICENSE.md) for details.  \n"
      ]
    },
    {
      "cell_type": "markdown",
      "metadata": {
        "id": "rWegNZ9Z21pg",
        "pycharm": {
          "name": "#%%\n"
        }
      },
      "source": [
        "# Lab 2: ES\n",
        "\n",
        "## Task\n",
        "\n",
        "Write agents able to play [*Nim*](https://en.wikipedia.org/wiki/Nim), with an arbitrary number of rows and an upper bound $k$ on the number of objects that can be removed in a turn (a.k.a., *subtraction game*).\n",
        "\n",
        "The goal of the game is to **avoid** taking the last object.\n",
        "\n",
        "* Task2.1: An agent using fixed rules based on *nim-sum* (i.e., an *expert system*)\n",
        "* Task2.2: An agent using evolved rules using ES\n",
        "\n",
        "## Instructions\n",
        "\n",
        "* Create the directory `lab2` inside your personal course repository for the course\n",
        "* Put a `README.md` and your solution (all the files, code and auxiliary data if needed)\n",
        "\n",
        "## Notes\n",
        "\n",
        "* Working in group is not only allowed, but recommended (see: [Ubuntu](https://en.wikipedia.org/wiki/Ubuntu_philosophy) and [Cooperative Learning](https://files.eric.ed.gov/fulltext/EJ1096789.pdf)). Collaborations must be explicitly declared in the `README.md`.\n",
        "* [Yanking](https://www.emacswiki.org/emacs/KillingAndYanking) from the internet is allowed, but sources must be explicitly declared in the `README.md`.\n",
        "\n"
      ]
    },
    {
      "cell_type": "code",
      "execution_count": 30,
      "metadata": {
        "id": "CnFXaLTm21pg"
      },
      "outputs": [],
      "source": [
        "import logging\n",
        "from pprint import pprint, pformat\n",
        "from collections import namedtuple\n",
        "import random\n",
        "from copy import deepcopy\n",
        "import numpy as np"
      ]
    },
    {
      "cell_type": "markdown",
      "metadata": {
        "id": "uuJ2PUB421ph"
      },
      "source": [
        "## The *Nim* and *Nimply* classes"
      ]
    },
    {
      "cell_type": "code",
      "execution_count": 31,
      "metadata": {
        "id": "3fcUS7M321ph"
      },
      "outputs": [],
      "source": [
        "Nimply = namedtuple(\"Nimply\", \"row, num_objects\")\n"
      ]
    },
    {
      "cell_type": "code",
      "execution_count": 32,
      "metadata": {
        "id": "__edy1t321ph"
      },
      "outputs": [],
      "source": [
        "class Nim:\n",
        "    def __init__(self, num_rows: int, k: int = None) -> None:\n",
        "        self._rows = [i * 2 + 1 for i in range(num_rows)]\n",
        "        self._k = k\n",
        "\n",
        "    def __bool__(self):\n",
        "        return sum(self._rows) > 0\n",
        "\n",
        "    def __str__(self):\n",
        "        return \"<\" + \" \".join(str(_) for _ in self._rows) + \">\"\n",
        "\n",
        "    @property\n",
        "    def rows(self) -> tuple:\n",
        "        return tuple(self._rows)\n",
        "\n",
        "    @property\n",
        "    def k(self) -> int:\n",
        "        return self._k\n",
        "\n",
        "    def non_empty_rows(self) -> list:\n",
        "        \"\"\" Return a list of non-empty rows indices \"\"\"\n",
        "        return [i for i, row in enumerate(self._rows) if row > 0]\n",
        "\n",
        "    def nimming(self, ply: Nimply) -> None:\n",
        "        row, num_objects = ply\n",
        "        assert self._rows[row] >= num_objects\n",
        "        assert self._k is None or num_objects <= self._k\n",
        "        self._rows[row] -= num_objects\n"
      ]
    },
    {
      "cell_type": "code",
      "execution_count": 33,
      "metadata": {
        "id": "qHiY5iPN9qd_"
      },
      "outputs": [],
      "source": [
        "def nim_sum(state: Nim) -> int:\n",
        "    tmp = np.array([tuple(int(x) for x in f\"{c:032b}\") for c in state.rows])\n",
        "    xor = tmp.sum(axis=0) % 2\n",
        "    return int(\"\".join(str(_) for _ in xor), base=2)"
      ]
    },
    {
      "cell_type": "markdown",
      "metadata": {
        "id": "o-JZi5Nd21ph"
      },
      "source": [
        "## Sample (and silly) strategies"
      ]
    },
    {
      "cell_type": "code",
      "execution_count": 34,
      "metadata": {
        "id": "UCHJJj5M21ph"
      },
      "outputs": [],
      "source": [
        "def pure_random(state: Nim) -> Nimply:\n",
        "    \"\"\"A completely random move\"\"\"\n",
        "    row = random.choice([r for r, c in enumerate(state.rows) if c > 0])\n",
        "    num_objects = random.randint(1, state.rows[row])\n",
        "    return Nimply(row, num_objects)\n"
      ]
    },
    {
      "cell_type": "code",
      "execution_count": 35,
      "metadata": {
        "id": "57S8zTBs21ph"
      },
      "outputs": [],
      "source": [
        "def gabriele(state: Nim) -> Nimply:\n",
        "    \"\"\"Pick always the maximum possible number of the lowest row\"\"\"\n",
        "    possible_moves = [(r, o) for r, c in enumerate(state.rows) for o in range(1, c + 1)]\n",
        "    return Nimply(*max(possible_moves, key=lambda m: (-m[0], m[1])))\n"
      ]
    },
    {
      "cell_type": "code",
      "execution_count": 40,
      "metadata": {
        "id": "ri5A2x4421pi"
      },
      "outputs": [],
      "source": [
        "def adaptive(state: Nim) -> Nimply:\n",
        "    \"\"\"A strategy that can adapt its parameters\"\"\"\n",
        "    genome = {\"love_small\": 0.5}\n"
      ]
    },
    {
      "cell_type": "code",
      "execution_count": 37,
      "metadata": {
        "id": "uOGZNIIN21pi"
      },
      "outputs": [],
      "source": [
        "def analize(raw: Nim) -> dict:\n",
        "    cooked = dict()\n",
        "    cooked[\"possible_moves\"] = dict()\n",
        "    for ply in (Nimply(r, o) for r, c in enumerate(raw.rows) for o in range(1, c + 1)):\n",
        "        tmp = deepcopy(raw)\n",
        "        tmp.nimming(ply)\n",
        "        cooked[\"possible_moves\"][ply] = nim_sum(tmp)\n",
        "    return cooked\n",
        "\n",
        "\n",
        "def optimal(state: Nim) -> Nimply:\n",
        "    analysis = analize(state)\n",
        "    logging.debug(f\"analysis:\\n{pformat(analysis)}\")\n",
        "    spicy_moves = [ply for ply, ns in analysis[\"possible_moves\"].items() if ns == 0]\n",
        "    if not spicy_moves:\n",
        "        spicy_moves = list(analysis[\"possible_moves\"].keys())\n",
        "    ply = random.choice(spicy_moves)\n",
        "    return ply\n"
      ]
    },
    {
      "cell_type": "code",
      "execution_count": 38,
      "metadata": {
        "id": "Xii5ROhVFwXW"
      },
      "outputs": [],
      "source": [
        "def optimal_with_misere(state: Nim) -> Nimply:\n",
        "    rows = state.rows\n",
        "\n",
        "    num_active_rows = sum(1 for row in rows if row > 0)\n",
        "    num_active_above_one = sum(1 for row in rows if row > 1)\n",
        "    max_objects = max(rows)\n",
        "    max_index = rows.index(max_objects)\n",
        "\n",
        "\n",
        "\n",
        "    if (num_active_above_one == 1 and num_active_rows > 1) or num_active_rows == 1:\n",
        "        if num_active_rows % 2 == 0:  # Even number of active rows\n",
        "           logging.info(\"end\")\n",
        "           return Nimply(max_index, max_objects)\n",
        "        else:  # Odd number of active rows\n",
        "            logging.info(\"end\")\n",
        "            if max_objects > 1:\n",
        "              return Nimply(max_index, max_objects - 1)\n",
        "\n",
        "    return optimal(state)  # Continue with the default strategy"
      ]
    },
    {
      "cell_type": "markdown",
      "metadata": {
        "id": "b2jQW7-a21pi"
      },
      "source": [
        "## Oversimplified match"
      ]
    },
    {
      "cell_type": "code",
      "execution_count": 41,
      "metadata": {
        "colab": {
          "base_uri": "https://localhost:8080/"
        },
        "id": "0Vkv4uq_21pi",
        "outputId": "4f72a482-359e-40dc-9135-f31d9f057ca6"
      },
      "outputs": [
        {
          "name": "stderr",
          "output_type": "stream",
          "text": [
            "INFO:root:init : <1 3 5 7 9>\n",
            "INFO:root:ply: player 0 plays Nimply(row=0, num_objects=1)\n",
            "INFO:root:status: <0 3 5 7 9> nim_sum: 8\n",
            "\n"
          ]
        },
        {
          "ename": "TypeError",
          "evalue": "__bool__ should return bool, returned numpy.bool_",
          "output_type": "error",
          "traceback": [
            "\u001b[1;31m---------------------------------------------------------------------------\u001b[0m",
            "\u001b[1;31mTypeError\u001b[0m                                 Traceback (most recent call last)",
            "\u001b[1;32mc:\\Users\\Utente\\Desktop\\Magistrale\\CI2324\\PROJECTS\\LABS\\s317264-computational-intelligence-labs\\lab2\\lab2_nim_.ipynb Cell 15\u001b[0m line \u001b[0;36m9\n\u001b[0;32m      <a href='vscode-notebook-cell:/c%3A/Users/Utente/Desktop/Magistrale/CI2324/PROJECTS/LABS/s317264-computational-intelligence-labs/lab2/lab2_nim_.ipynb#X20sZmlsZQ%3D%3D?line=6'>7</a>\u001b[0m player \u001b[39m=\u001b[39m \u001b[39m0\u001b[39m\n\u001b[0;32m      <a href='vscode-notebook-cell:/c%3A/Users/Utente/Desktop/Magistrale/CI2324/PROJECTS/LABS/s317264-computational-intelligence-labs/lab2/lab2_nim_.ipynb#X20sZmlsZQ%3D%3D?line=7'>8</a>\u001b[0m \u001b[39mwhile\u001b[39;00m nim:\n\u001b[1;32m----> <a href='vscode-notebook-cell:/c%3A/Users/Utente/Desktop/Magistrale/CI2324/PROJECTS/LABS/s317264-computational-intelligence-labs/lab2/lab2_nim_.ipynb#X20sZmlsZQ%3D%3D?line=8'>9</a>\u001b[0m     ply \u001b[39m=\u001b[39m strategy[player](nim)\n\u001b[0;32m     <a href='vscode-notebook-cell:/c%3A/Users/Utente/Desktop/Magistrale/CI2324/PROJECTS/LABS/s317264-computational-intelligence-labs/lab2/lab2_nim_.ipynb#X20sZmlsZQ%3D%3D?line=9'>10</a>\u001b[0m     logging\u001b[39m.\u001b[39minfo(\u001b[39mf\u001b[39m\u001b[39m\"\u001b[39m\u001b[39mply: player \u001b[39m\u001b[39m{\u001b[39;00mplayer\u001b[39m}\u001b[39;00m\u001b[39m plays \u001b[39m\u001b[39m{\u001b[39;00mply\u001b[39m}\u001b[39;00m\u001b[39m\"\u001b[39m)\n\u001b[0;32m     <a href='vscode-notebook-cell:/c%3A/Users/Utente/Desktop/Magistrale/CI2324/PROJECTS/LABS/s317264-computational-intelligence-labs/lab2/lab2_nim_.ipynb#X20sZmlsZQ%3D%3D?line=10'>11</a>\u001b[0m     nim\u001b[39m.\u001b[39mnimming(ply)\n",
            "\u001b[1;32mc:\\Users\\Utente\\Desktop\\Magistrale\\CI2324\\PROJECTS\\LABS\\s317264-computational-intelligence-labs\\lab2\\lab2_nim_.ipynb Cell 15\u001b[0m line \u001b[0;36m1\n\u001b[0;32m     <a href='vscode-notebook-cell:/c%3A/Users/Utente/Desktop/Magistrale/CI2324/PROJECTS/LABS/s317264-computational-intelligence-labs/lab2/lab2_nim_.ipynb#X20sZmlsZQ%3D%3D?line=12'>13</a>\u001b[0m population \u001b[39m=\u001b[39m [gaussian_mutation(genome, mutation_rate) \u001b[39mfor\u001b[39;00m _ \u001b[39min\u001b[39;00m \u001b[39mrange\u001b[39m(population_size)]\n\u001b[0;32m     <a href='vscode-notebook-cell:/c%3A/Users/Utente/Desktop/Magistrale/CI2324/PROJECTS/LABS/s317264-computational-intelligence-labs/lab2/lab2_nim_.ipynb#X20sZmlsZQ%3D%3D?line=14'>15</a>\u001b[0m \u001b[39m# Evaluate fitness for each individual in the population\u001b[39;00m\n\u001b[1;32m---> <a href='vscode-notebook-cell:/c%3A/Users/Utente/Desktop/Magistrale/CI2324/PROJECTS/LABS/s317264-computational-intelligence-labs/lab2/lab2_nim_.ipynb#X20sZmlsZQ%3D%3D?line=15'>16</a>\u001b[0m fitness_scores \u001b[39m=\u001b[39m [evaluate_fitness(individual) \u001b[39mfor\u001b[39;00m individual \u001b[39min\u001b[39;00m population]\n\u001b[0;32m     <a href='vscode-notebook-cell:/c%3A/Users/Utente/Desktop/Magistrale/CI2324/PROJECTS/LABS/s317264-computational-intelligence-labs/lab2/lab2_nim_.ipynb#X20sZmlsZQ%3D%3D?line=17'>18</a>\u001b[0m \u001b[39m# Select the best individual based on fitness\u001b[39;00m\n\u001b[0;32m     <a href='vscode-notebook-cell:/c%3A/Users/Utente/Desktop/Magistrale/CI2324/PROJECTS/LABS/s317264-computational-intelligence-labs/lab2/lab2_nim_.ipynb#X20sZmlsZQ%3D%3D?line=18'>19</a>\u001b[0m best_index \u001b[39m=\u001b[39m np\u001b[39m.\u001b[39margmax(fitness_scores)\n",
            "\u001b[1;32mc:\\Users\\Utente\\Desktop\\Magistrale\\CI2324\\PROJECTS\\LABS\\s317264-computational-intelligence-labs\\lab2\\lab2_nim_.ipynb Cell 15\u001b[0m line \u001b[0;36m4\n\u001b[0;32m     <a href='vscode-notebook-cell:/c%3A/Users/Utente/Desktop/Magistrale/CI2324/PROJECTS/LABS/s317264-computational-intelligence-labs/lab2/lab2_nim_.ipynb#X20sZmlsZQ%3D%3D?line=37'>38</a>\u001b[0m nim \u001b[39m=\u001b[39m Nim(\u001b[39m5\u001b[39m)\n\u001b[0;32m     <a href='vscode-notebook-cell:/c%3A/Users/Utente/Desktop/Magistrale/CI2324/PROJECTS/LABS/s317264-computational-intelligence-labs/lab2/lab2_nim_.ipynb#X20sZmlsZQ%3D%3D?line=38'>39</a>\u001b[0m player \u001b[39m=\u001b[39m \u001b[39m0\u001b[39m\n\u001b[1;32m---> <a href='vscode-notebook-cell:/c%3A/Users/Utente/Desktop/Magistrale/CI2324/PROJECTS/LABS/s317264-computational-intelligence-labs/lab2/lab2_nim_.ipynb#X20sZmlsZQ%3D%3D?line=39'>40</a>\u001b[0m \u001b[39mwhile\u001b[39;00m nim:\n\u001b[0;32m     <a href='vscode-notebook-cell:/c%3A/Users/Utente/Desktop/Magistrale/CI2324/PROJECTS/LABS/s317264-computational-intelligence-labs/lab2/lab2_nim_.ipynb#X20sZmlsZQ%3D%3D?line=40'>41</a>\u001b[0m     ply \u001b[39m=\u001b[39m evolved_strategy(strategy, nim)\n\u001b[0;32m     <a href='vscode-notebook-cell:/c%3A/Users/Utente/Desktop/Magistrale/CI2324/PROJECTS/LABS/s317264-computational-intelligence-labs/lab2/lab2_nim_.ipynb#X20sZmlsZQ%3D%3D?line=41'>42</a>\u001b[0m     nim\u001b[39m.\u001b[39mnimming(ply)\n",
            "\u001b[1;31mTypeError\u001b[0m: __bool__ should return bool, returned numpy.bool_"
          ]
        }
      ],
      "source": [
        "logging.getLogger().setLevel(logging.INFO)\n",
        "\n",
        "strategy = (gabriele, adaptive)\n",
        "\n",
        "nim = Nim(5)\n",
        "logging.info(f\"init : {nim}\")\n",
        "player = 0\n",
        "while nim:\n",
        "    ply = strategy[player](nim)\n",
        "    logging.info(f\"ply: player {player} plays {ply}\")\n",
        "    nim.nimming(ply)\n",
        "    logging.info(f\"status: {nim} nim_sum: {nim_sum(nim)}\\n\")\n",
        "    player = 1 - player\n",
        "logging.info(f\"status: Player {player} won!\")\n"
      ]
    },
    {
      "cell_type": "code",
      "execution_count": null,
      "metadata": {
        "id": "C2J7KB_H21pi"
      },
      "outputs": [],
      "source": []
    },
    {
      "cell_type": "code",
      "execution_count": null,
      "metadata": {
        "id": "PJII4A9k21pj"
      },
      "outputs": [],
      "source": []
    },
    {
      "cell_type": "code",
      "execution_count": null,
      "metadata": {
        "id": "D_4YCJjl21pj"
      },
      "outputs": [],
      "source": []
    }
  ],
  "metadata": {
    "colab": {
      "provenance": []
    },
    "kernelspec": {
      "display_name": "Python 3.10.7 ('ci22-dPIXJ0_o-py3.10')",
      "language": "python",
      "name": "python3"
    },
    "language_info": {
      "codemirror_mode": {
        "name": "ipython",
        "version": 3
      },
      "file_extension": ".py",
      "mimetype": "text/x-python",
      "name": "python",
      "nbconvert_exporter": "python",
      "pygments_lexer": "ipython3",
      "version": "3.12.0"
    },
    "vscode": {
      "interpreter": {
        "hash": "10197e8e2f2aa67e2c349105091c77f4cd384fce4877865f002d9ec653f96bc0"
      }
    }
  },
  "nbformat": 4,
  "nbformat_minor": 0
}
