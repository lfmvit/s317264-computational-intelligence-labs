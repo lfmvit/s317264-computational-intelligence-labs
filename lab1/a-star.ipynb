{
 "cells": [
  {
   "cell_type": "markdown",
   "metadata": {},
   "source": [
    "## Introduction\n",
    "\n",
    "First of all, I'm not a expert in python, I'm learning this language for the first time in this course, so I will try my best to solve the problem of set-covering coming up with my own original solution (hopefully) to both reaching  the goal and improve my knowledge of the language. "
   ]
  },
  {
   "cell_type": "markdown",
   "metadata": {},
   "source": [
    "### The problem, the goal, the strategy\n",
    "Here I try to model a 'formal' description of the set-covering.\n",
    "\n",
    "Given a number N and a list X of sets Si of integers X = (S0,S1,S2,...,Sn), determine, if possible, a list Y of taken sets Ti, Y = (T0,T1,...,Tn), such that each integer between 0 and N-1, appears in the union of sets in Y, and that the total number of the sets used to reach the previously stated condition is minimum.\n",
    "\n",
    "To reach the solution we are gonna make use of A* strategy: It works by exploring nodes in order of their f(n) value, where *f(n) = g(n) + h(n)*.\n",
    "\n",
    "It's seems logical for the time being, to evaluate the candidate nodes that **minimize** *f(n)*.\n",
    "\n",
    "It starts at the initial node, evaluates its neighbors, and selects the one with the lowest f(n) value to explore next. The process continues until the goal node is reached or the open set of nodes to be evaluated is empty.\n",
    "\n",
    "A* is considered \"optimal\" because it guarantees finding the shortest path as long as the heuristic function h(n) is admissible (never overestimates the true cost) and consistent (satisfies the triangle inequality). Common heuristics include the Manhattan distance or Euclidean distance for grid-based and Euclidean spaces, respectively."
   ]
  },
  {
   "cell_type": "markdown",
   "metadata": {},
   "source": [
    "## Implementation"
   ]
  },
  {
   "cell_type": "markdown",
   "metadata": {},
   "source": [
    "`Imports of libraries`:\n",
    "- heapq is priority queue, it seems logical to use something like this based on the nature of A*\n",
    "- random it's used to generate the sets, it's possible to fix the seed to make the problem reproducible aka pseudorandom"
   ]
  },
  {
   "cell_type": "code",
   "execution_count": 13,
   "metadata": {},
   "outputs": [],
   "source": [
    "import heapq\n",
    "import random\n",
    "#import logging"
   ]
  },
  {
   "cell_type": "markdown",
   "metadata": {},
   "source": [
    "\n",
    "`Problem Generation`: Generated a Goal States and the list of sets X."
   ]
  },
  {
   "cell_type": "code",
   "execution_count": 14,
   "metadata": {},
   "outputs": [],
   "source": [
    "def problem(N, fixed_seed=42):\n",
    "    \"\"\"Creates an instance of the problem with a fixed seed\"\"\"\n",
    "    random.seed(fixed_seed)\n",
    "    \n",
    "    p = [\n",
    "        list(set(random.randint(0, N - 1) for n in range(random.randint(N // 5, N // 2))))\n",
    "        for _ in range(random.randint(N, N * 5))\n",
    "    ]\n",
    "    \n",
    "    return p"
   ]
  },
  {
   "cell_type": "markdown",
   "metadata": {},
   "source": [
    "`State Representation`: Define a state representation that keeps track of the current solution, the remaining uncovered elements, and the list of sets that can be considered for covering.\n",
    "At the beginning I used a dictionary, bad idea since it does not go well with priority queues, at the end I'm just considering sets as strings with integers separated by semicolons\n",
    "\n",
    "`Heuristic`: takes a state as an argument. This function calculates the heuristic value, which is an estimate of how far the current state is from the goal state. In this example, the heuristic function calculates the number of uncovered elements by subtracting the covered elements from the goal.\n",
    "- **len(new_solution)**: This component represents the actual cost (g(n)) in this context. It is the length of the list of selected sets. This represents the number of sets that have been chosen so far to cover the required elements.\n",
    "\n",
    "- **heuristic(new_state)**: This component is the heuristic value (h(n)) estimated by the heuristic function. It represents the estimated remaining cost to reach the goal state from the new state new_state. In this particular problem, the heuristic function calculates the number of uncovered elements (elements not yet covered) by subtracting the covered elements from the goal set. This estimation represents how many more elements need to be covered\n",
    "\n",
    "`Main Loop`: aka astar runs until the goal state is reached or there are no more states to explore.\n",
    "\n",
    "`State Evaluation`: For each new state, the algorithm checks if it has been explored before and calculates the f(n) value:"
   ]
  },
  {
   "cell_type": "code",
   "execution_count": 15,
   "metadata": {},
   "outputs": [],
   "source": [
    "def astar(N, all_lists):\n",
    "    goal = set(range(N))\n",
    "    initial_state = ([], set(), all_lists[:])\n",
    "\n",
    "    def heuristic(state):\n",
    "        return len(goal - state[1])\n",
    "\n",
    "    open_set = [(heuristic(initial_state), 0, initial_state)]\n",
    "    explored_states = set()\n",
    "\n",
    "    while open_set:\n",
    "        _, step, current_state = heapq.heappop(open_set)\n",
    "\n",
    "        if current_state[1] == goal:\n",
    "            return current_state[0]\n",
    "\n",
    "        state_str = \",\".join(map(str, current_state[0])) + \";\" + \",\".join(map(str, current_state[1]))\n",
    "        explored_states.add(state_str)\n",
    "\n",
    "        for i, next_set in enumerate(current_state[2]):\n",
    "            new_solution = current_state[0] + [next_set]\n",
    "            new_covered = current_state[1] | set(next_set)\n",
    "            new_remaining = current_state[2][i+1:]\n",
    "            new_state = (new_solution, new_covered, new_remaining)\n",
    "\n",
    "            # Check if the new state has been explored\n",
    "            state_str = \",\".join(map(str, new_solution)) + \";\" + \",\".join(map(str, new_covered))\n",
    "            if state_str not in explored_states:\n",
    "                f_value = len(new_solution) + heuristic(new_state)\n",
    "                heapq.heappush(open_set, (f_value, step + 1, new_state))\n",
    "\n",
    "    return None  # No solution found"
   ]
  },
  {
   "cell_type": "markdown",
   "metadata": {},
   "source": [
    "## Usage"
   ]
  },
  {
   "cell_type": "code",
   "execution_count": 16,
   "metadata": {},
   "outputs": [
    {
     "name": "stdout",
     "output_type": "stream",
     "text": [
      "Generated Problem Instance:\n",
      "Set 1: [0, 4]\n",
      "Set 2: [1, 2, 3]\n",
      "Set 3: [9, 6]\n",
      "Set 4: [0, 1]\n",
      "Set 5: [8, 9, 3]\n",
      "Set 6: [8, 3]\n",
      "Set 7: [0, 3, 4, 7, 9]\n",
      "Set 8: [4, 5, 6]\n",
      "Set 9: [1, 3, 5]\n",
      "Set 10: [1, 6]\n",
      "Set 11: [0, 9, 4, 5]\n",
      "Set 12: [8, 1, 6]\n",
      "Set 13: [9, 3, 5]\n",
      "Set 14: [0, 3]\n",
      "Set 15: [1, 3, 6]\n",
      "Set 16: [2, 5, 7]\n",
      "Set 17: [1, 3, 4, 9]\n",
      "Set 18: [8, 2, 3]\n",
      "Set 19: [3, 4, 5, 6, 8]\n",
      "Set 20: [0, 3]\n",
      "Set 21: [1, 3, 4, 6]\n",
      "Set 22: [3, 6, 7]\n",
      "Set 23: [2, 3, 4]\n",
      "Set 24: [9, 6]\n",
      "Set 25: [8, 2, 3, 7]\n",
      "Set 26: [0, 1]\n",
      "Set 27: [9, 2, 6]\n",
      "Set 28: [6]\n",
      "Set 29: [8, 0, 4, 1]\n",
      "Set 30: [1, 4, 5, 6]\n",
      "Set 31: [0, 4, 7]\n",
      "Set 32: [8, 1, 4]\n",
      "Set 33: [2, 5]\n",
      "Set 34: [9, 5]\n",
      "Set 35: [0, 1, 3, 4, 5]\n",
      "Set 36: [9, 3]\n",
      "Set 37: [1, 7]\n",
      "Set 38: [8, 2]\n",
      "Set 39: [8, 2, 7]\n",
      "Set 40: [8, 9, 3, 6]\n",
      "Set 41: [4, 5, 6]\n",
      "Set 42: [8, 1, 3, 7]\n",
      "Set 43: [0, 5]\n",
      "Set 44: [0, 9, 3]\n",
      "Set 45: [0, 3]\n",
      "Set 46: [0, 5]\n",
      "Set 47: [8, 3]\n",
      "Set 48: [8, 2, 3, 7]\n",
      "Set 49: [1, 3, 6, 7]\n",
      "Set 50: [5, 6]\n",
      "A* Solution:\n",
      "Selected Set 35: [0, 1, 3, 4, 5]\n",
      "Selected Set 39: [8, 2, 7]\n",
      "Selected Set 40: [8, 9, 3, 6]\n"
     ]
    }
   ],
   "source": [
    "N = 10  #  N as needed\n",
    "problem_instance = problem(N)\n",
    "print(\"Generated Problem Instance:\")\n",
    "for i, sub_list in enumerate(problem_instance):\n",
    "    print(f\"Set {i + 1}: {sub_list}\")\n",
    "\n",
    "solution = astar(N, problem_instance)\n",
    "\n",
    "if solution:\n",
    "    print(\"A* Solution:\")\n",
    "    for i, selected_set in enumerate(solution):\n",
    "        set_number = problem_instance.index(selected_set) + 1  # Find the index of the selected set\n",
    "        print(f\"Selected Set {set_number}: {selected_set}\")\n",
    "else:\n",
    "    print(\"No solution found.\")"
   ]
  }
 ],
 "metadata": {
  "kernelspec": {
   "display_name": "VIRTUALENV",
   "language": "python",
   "name": "python3"
  },
  "language_info": {
   "codemirror_mode": {
    "name": "ipython",
    "version": 3
   },
   "file_extension": ".py",
   "mimetype": "text/x-python",
   "name": "python",
   "nbconvert_exporter": "python",
   "pygments_lexer": "ipython3",
   "version": "3.12.0"
  }
 },
 "nbformat": 4,
 "nbformat_minor": 2
}
