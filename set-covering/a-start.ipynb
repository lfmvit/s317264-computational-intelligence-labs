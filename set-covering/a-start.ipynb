{
 "cells": [
  {
   "cell_type": "markdown",
   "metadata": {},
   "source": [
    "## Introduction\n",
    "\n",
    "First of all, I'm not a expert in python, I'm learning this language for the first time in this course, so I will try my best to solve the problem of set-covering coming up with my own original solution (hopefully) to both reaching  the goal and improve my knowledge of the language. "
   ]
  },
  {
   "cell_type": "markdown",
   "metadata": {},
   "source": [
    "### The problem, the goal, the strategy\n",
    "Here I try to model a 'formal' description of the set-covering.\n",
    "\n",
    "Given a number N and a list X of sets Si of integers X = (S0,S1,S2,...,Sn), determine, if possible, a list Y of taken sets Ti, Y = (T0,T1,...,Tn), such that each integer between 0 and N-1, appears in the union of sets in Y, and that the total number of the sets used to reach the previously stated condition is minimum.\n",
    "\n",
    "To reach the solution we are gonna make use of A* strategy: It works by exploring nodes in order of their f(n) value, where *f(n) = g(n) + h(n)*.\n",
    "\n",
    "It's seems logical for the time being, to evaluate the candidate nodes that **minimize** *f(n)*.\n",
    "\n",
    "It starts at the initial node, evaluates its neighbors, and selects the one with the lowest f(n) value to explore next. The process continues until the goal node is reached or the open set of nodes to be evaluated is empty.\n",
    "\n",
    "A* is considered \"optimal\" because it guarantees finding the shortest path as long as the heuristic function h(n) is admissible (never overestimates the true cost) and consistent (satisfies the triangle inequality). Common heuristics include the Manhattan distance or Euclidean distance for grid-based and Euclidean spaces, respectively."
   ]
  },
  {
   "cell_type": "markdown",
   "metadata": {},
   "source": [
    "## Implementation"
   ]
  },
  {
   "cell_type": "markdown",
   "metadata": {},
   "source": [
    "`Imports of libraries`:\n",
    "- heapq is priority queue, it seems logical to use something like this based on the nature of A*\n",
    "- random it's used to generate the sets, it's possible to fix the seed to make the problem reproducible aka pseudorandom"
   ]
  },
  {
   "cell_type": "code",
   "execution_count": 12,
   "metadata": {},
   "outputs": [],
   "source": [
    "import heapq\n",
    "import random\n",
    "#import logging"
   ]
  },
  {
   "cell_type": "markdown",
   "metadata": {},
   "source": [
    "\n",
    "`Problem Generation`: Generated a Goal States and the list of sets X."
   ]
  },
  {
   "cell_type": "code",
   "execution_count": 13,
   "metadata": {},
   "outputs": [],
   "source": [
    "def problem(N, seed=None):\n",
    "    \"\"\"Creates an instance of the problem\"\"\"\n",
    "    state = random.getstate()\n",
    "    random.seed(seed)\n",
    "    p = [\n",
    "        list(set(random.randint(0, N - 1) for n in range(random.randint(N // 5, N // 2))))\n",
    "        for n in range(random.randint(N, N * 5))\n",
    "        ]\n",
    "    random.setstate(state)\n",
    "    return p\n"
   ]
  },
  {
   "cell_type": "markdown",
   "metadata": {},
   "source": [
    "`State Representation`: Define a state representation that keeps track of the current solution, the remaining uncovered elements, and the list of sets that can be considered for covering. I used a dictionary.\n",
    "`Heuristic`: takes a state as an argument. This function calculates the heuristic value, which is an estimate of how far the current state is from the goal state. In this example, the heuristic function calculates the number of uncovered elements by subtracting the covered elements from the goal."
   ]
  },
  {
   "cell_type": "code",
   "execution_count": 14,
   "metadata": {},
   "outputs": [],
   "source": [
    "def astar(N, all_lists):\n",
    "    goal = set(range(N))\n",
    "    initial_state = {\n",
    "        'solution': [],\n",
    "        'covered': set(),\n",
    "        'remaining_sets': all_lists[:]\n",
    "    }\n",
    "\n",
    "    def heuristic(state):\n",
    "        return len(goal - state['covered'])\n",
    "\n",
    "    open_set = [(heuristic(initial_state), initial_state)]\n",
    "    closed_set = set()\n",
    "\n",
    "    while open_set:\n",
    "        _, current_state = heapq.heappop(open_set)\n",
    "\n",
    "        if current_state['covered'] == goal:\n",
    "            return current_state['solution']\n",
    "\n",
    "        closed_set.add(tuple(current_state['solution']))\n",
    "\n",
    "        for next_set in current_state['remaining_sets']:\n",
    "            new_solution = current_state['solution'] + [next_set]\n",
    "            new_covered = current_state['covered'] | set(next_set)\n",
    "            new_state = {\n",
    "                'solution': new_solution,\n",
    "                'covered': new_covered,\n",
    "                'remaining_sets': current_state['remaining_sets'][1:]\n",
    "            }\n",
    "\n",
    "            if tuple(new_solution) not in closed_set:\n",
    "                f_value = len(new_solution) + heuristic(new_state)\n",
    "                heapq.heappush(open_set, (f_value, new_state))\n",
    "\n",
    "    return None  # No solution found\n"
   ]
  },
  {
   "cell_type": "markdown",
   "metadata": {},
   "source": [
    "## Usage"
   ]
  },
  {
   "cell_type": "code",
   "execution_count": 15,
   "metadata": {},
   "outputs": [
    {
     "name": "stdout",
     "output_type": "stream",
     "text": [
      "Generated Problem Instance:\n",
      "Set 1: [8, 9, 3, 5]\n",
      "Set 2: [3, 4, 6]\n",
      "Set 3: [0, 3]\n",
      "Set 4: [0, 1]\n",
      "Set 5: [1, 2, 4, 5, 6]\n",
      "Set 6: [8, 4, 5]\n",
      "Set 7: [0, 3, 4]\n",
      "Set 8: [8, 2, 3]\n",
      "Set 9: [8, 1]\n",
      "Set 10: [0, 2, 4, 7, 9]\n",
      "Set 11: [1, 4]\n",
      "Set 12: [9, 2, 3, 6]\n",
      "Set 13: [0, 3]\n",
      "Set 14: [2, 3, 4, 7]\n",
      "Set 15: [0, 7]\n",
      "Set 16: [0, 9, 7]\n",
      "Set 17: [8, 1, 5, 6]\n"
     ]
    }
   ],
   "source": [
    "N = 10  #  N as needed\n",
    "problem_instance = problem(N)\n",
    "print(\"Generated Problem Instance:\")\n",
    "for i, sub_list in enumerate(problem_instance):\n",
    "    print(f\"Set {i + 1}: {sub_list}\")"
   ]
  }
 ],
 "metadata": {
  "kernelspec": {
   "display_name": "VIRTUALENV",
   "language": "python",
   "name": "python3"
  },
  "language_info": {
   "codemirror_mode": {
    "name": "ipython",
    "version": 3
   },
   "file_extension": ".py",
   "mimetype": "text/x-python",
   "name": "python",
   "nbconvert_exporter": "python",
   "pygments_lexer": "ipython3",
   "version": "3.12.0"
  }
 },
 "nbformat": 4,
 "nbformat_minor": 2
}
