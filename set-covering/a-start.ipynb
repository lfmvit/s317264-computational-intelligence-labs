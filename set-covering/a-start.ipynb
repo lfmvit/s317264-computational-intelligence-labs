{
 "cells": [
  {
   "cell_type": "markdown",
   "metadata": {},
   "source": [
    "## Introduction\n",
    "\n",
    "First of all, I'm not a expert in python, I'm learning this language for the first time in this course, so I will try my best to solve the problem of set-covering coming up with my own original solution (hopefully) to both reaching  the goal and improve my knowledge of the language. "
   ]
  },
  {
   "cell_type": "markdown",
   "metadata": {},
   "source": [
    "### The problem, the goal, the strategy\n",
    "Here I try to model a 'formal' description of the set-covering.\n",
    "\n",
    "Given a number N and a list X of sets Si of integers X = (S0,S1,S2,...,Sn), determine, if possible, a list Y of taken sets Ti, Y = (T0,T1,...,Tn), such that each integer between 0 and N-1, appears in the union of sets in Y, and that the total number of the sets used to reach the previously stated condition is minimum.\n",
    "\n",
    "To reach the solution we are gonna make use of A* strategy: It works by exploring nodes in order of their f(n) value, where *f(n) = g(n) + h(n)*.\n",
    "\n",
    "It's seems logical for the time being, to evaluate the candidate nodes that **minimize** *f(n)*.\n",
    "\n",
    "It starts at the initial node, evaluates its neighbors, and selects the one with the lowest f(n) value to explore next. The process continues until the goal node is reached or the open set of nodes to be evaluated is empty.\n",
    "\n",
    "A* is considered \"optimal\" because it guarantees finding the shortest path as long as the heuristic function h(n) is admissible (never overestimates the true cost) and consistent (satisfies the triangle inequality). Common heuristics include the Manhattan distance or Euclidean distance for grid-based and Euclidean spaces, respectively."
   ]
  },
  {
   "cell_type": "markdown",
   "metadata": {},
   "source": [
    "## Implementation"
   ]
  },
  {
   "cell_type": "markdown",
   "metadata": {},
   "source": [
    "`Imports of libraries`:\n",
    "- heapq is priority queue, it seems logical to use something like this based on the nature of A*"
   ]
  },
  {
   "cell_type": "code",
   "execution_count": 19,
   "metadata": {},
   "outputs": [],
   "source": [
    "import heapq"
   ]
  },
  {
   "cell_type": "markdown",
   "metadata": {},
   "source": [
    "`State Representation`: Define a state representation that keeps track of the current solution, the remaining uncovered elements, and the list of sets that can be considered for covering. I used a dictionary.\n",
    "\n",
    "`Problem Generation`: Generated a Goal States and the list of sets X."
   ]
  },
  {
   "cell_type": "code",
   "execution_count": 20,
   "metadata": {},
   "outputs": [],
   "source": [
    "def astar(N, all_lists):\n",
    "    goal = set(range(N))\n",
    "    initial_state = {\n",
    "        'solution': [],\n",
    "        'covered': set(),\n",
    "        'remaining_sets': all_lists[:]\n",
    "    }\n",
    "\n",
    "def generate():\n",
    "    #todo\n",
    "    return None"
   ]
  },
  {
   "cell_type": "markdown",
   "metadata": {},
   "source": [
    "`Heuristic`: takes a state as an argument. This function calculates the heuristic value, which is an estimate of how far the current state is from the goal state. In this example, the heuristic function calculates the number of uncovered elements by subtracting the covered elements from the goal."
   ]
  },
  {
   "cell_type": "code",
   "execution_count": 21,
   "metadata": {},
   "outputs": [],
   "source": [
    "def heuristic(state):\n",
    " #todo\n",
    " return len(goal - state['covered'])"
   ]
  }
 ],
 "metadata": {
  "kernelspec": {
   "display_name": "VIRTUALENV",
   "language": "python",
   "name": "python3"
  },
  "language_info": {
   "codemirror_mode": {
    "name": "ipython",
    "version": 3
   },
   "file_extension": ".py",
   "mimetype": "text/x-python",
   "name": "python",
   "nbconvert_exporter": "python",
   "pygments_lexer": "ipython3",
   "version": "3.12.0"
  }
 },
 "nbformat": 4,
 "nbformat_minor": 2
}
